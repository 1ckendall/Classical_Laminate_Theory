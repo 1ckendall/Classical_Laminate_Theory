{
 "cells": [
  {
   "cell_type": "code",
   "id": "initial_id",
   "metadata": {
    "collapsed": true
   },
   "source": [
    "3%matplotlib inline\n",
    "from classical_laminate_theory.structures import Lamina, Laminate\n",
    "from\n",
    "import numpy as np"
   ],
   "outputs": [],
   "execution_count": null
  },
  {
   "metadata": {},
   "cell_type": "code",
   "source": [
    "l1 = Lamina(0, 200e9, 50e9, 100e6, 0.4, 0.1e-3)\n",
    "l2 = Lamina(-45, 200e9, 50e9, 100e6, 0.4, 0.1e-3)\n",
    "l3 = Lamina(45, 200e9, 50e9, 100e6, 0.4, 0.1e-3)\n",
    "l4 = Lamina(90, 200e9, 50e9, 100e6, 0.4, 0.1e-3)\n",
    "l5 = Lamina(45, 200e9, 50e9, 100e6, 0.4, 0.1e-3)\n",
    "l6 = Lamina(-45, 200e9, 50e9, 100e6, 0.4, 0.1e-3)\n",
    "l7 = Lamina(0, 200e9, 50e9, 100e6, 0.4, 0.1e-3)\n",
    "l8 = Lamina(0, 200e9, 50e9, 100e6, 0.4, 0.1e-3)\n",
    "l9 = Lamina(-45, 200e9, 50e9, 100e6, 0.4, 0.1e-3)\n",
    "l10 = Lamina(45, 200e9, 50e9, 100e6, 0.4, 0.1e-3)\n",
    "l11 = Lamina(90, 200e9, 50e9, 100e6, 0.4, 0.1e-3)\n",
    "l12 = Lamina(45, 200e9, 50e9, 100e6, 0.4, 0.1e-3)\n",
    "l13 = Lamina(-45, 200e9, 50e9, 100e6, 0.4, 0.1e-3)\n",
    "l14 = Lamina(0, 200e9, 50e9, 100e6, 0.4, 0.1e-3)\n",
    "\n",
    "L = Laminate((l1,l2,l3,l4,l5,l6,l7,l8,l9,l10,l11,l12,l13,l14), np.array([1e6, 1e6, 0, 0, 0, 0]))\n",
    "L.global_stress_graph\n",
    "L.local_stress_graph"
   ],
   "id": "5082a2c5192ab7e1",
   "outputs": [],
   "execution_count": null
  }
 ],
 "metadata": {
  "kernelspec": {
   "display_name": "Python 3",
   "language": "python",
   "name": "python3"
  },
  "language_info": {
   "codemirror_mode": {
    "name": "ipython",
    "version": 2
   },
   "file_extension": ".py",
   "mimetype": "text/x-python",
   "name": "python",
   "nbconvert_exporter": "python",
   "pygments_lexer": "ipython2",
   "version": "2.7.6"
  }
 },
 "nbformat": 4,
 "nbformat_minor": 5
}
